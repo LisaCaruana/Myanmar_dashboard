{
 "cells": [
  {
   "cell_type": "code",
   "execution_count": 3,
   "metadata": {},
   "outputs": [],
   "source": [
    "#Importing required libraries\n",
    "from bs4 import BeautifulSoup\n",
    "import requests \n",
    "import sys \n",
    "import json\n",
    "import tweepy\n",
    "import time \n",
    "import logging\n",
    "import random\n",
    "from datetime import datetime, timedelta\n",
    "\n",
    "logging.basicConfig(level = logging.INFO)\n",
    "logger = logging.getLogger()"
   ]
  },
  {
   "cell_type": "code",
   "execution_count": 2,
   "metadata": {},
   "outputs": [],
   "source": [
    "#Import the script that creates the Twitter API\n",
    "from config import create_api\n",
    "api = create_api()"
   ]
  },
  {
   "cell_type": "code",
   "execution_count": 1,
   "metadata": {},
   "outputs": [],
   "source": [
    "#Like and retweets mentions\n",
    "def fav_retweet(api):\n",
    "    logger.info('Retrieving tweets...')\n",
    "    mentions = api.mentions_timeline(tweet_mode = 'extended')\n",
    "    for mention in reversed(mentions):\n",
    "        if mention.in_reply_to_status_id is not None or mention.user.id == api.me().id:\n",
    "            # This tweet is a reply or I'm its author so, ignore it\n",
    "            return\n",
    "        \n",
    "        if not mention.favorited:\n",
    "            # Mark it as Liked, since we have not done it yet\n",
    "            try:\n",
    "                mention.favorite()\n",
    "                logger.info(f\"Liked tweet by {mention.user.name}\")\n",
    "            except Exception as e:\n",
    "                logger.error(\"Error on fav\", exc_info=True)\n",
    "                \n",
    "        if not mention.retweeted:\n",
    "            # Retweet, since we have not retweeted it yet\n",
    "            try:\n",
    "                mention.retweet()\n",
    "                logger.info(f\"Retweeted tweet by {mention.user.name}\")\n",
    "            except Exception as e:\n",
    "                logger.error(\"Error on fav and retweet\", exc_info=True)\n",
    "                \n",
    "        print(mentions)"
   ]
  },
  {
   "cell_type": "code",
   "execution_count": 4,
   "metadata": {},
   "outputs": [
    {
     "name": "stderr",
     "output_type": "stream",
     "text": [
      "INFO:root:Retrieving tweets...\n",
      "INFO:root:Waiting...\n",
      "INFO:root:Retrieving tweets...\n",
      "INFO:root:Waiting...\n",
      "INFO:root:Retrieving tweets...\n",
      "INFO:root:Waiting...\n",
      "INFO:root:Retrieving tweets...\n",
      "INFO:root:Waiting...\n",
      "INFO:root:Retrieving tweets...\n",
      "INFO:root:Waiting...\n",
      "INFO:root:Retrieving tweets...\n",
      "INFO:root:Waiting...\n",
      "INFO:root:Retrieving tweets...\n",
      "INFO:root:Waiting...\n",
      "INFO:root:Retrieving tweets...\n",
      "INFO:root:Waiting...\n",
      "INFO:root:Retrieving tweets...\n",
      "INFO:root:Waiting...\n",
      "INFO:root:Retrieving tweets...\n",
      "INFO:root:Waiting...\n",
      "INFO:root:Retrieving tweets...\n",
      "INFO:root:Waiting...\n",
      "INFO:root:Retrieving tweets...\n",
      "INFO:root:Waiting...\n"
     ]
    },
    {
     "ename": "KeyboardInterrupt",
     "evalue": "",
     "output_type": "error",
     "traceback": [
      "\u001b[1;31m---------------------------------------------------------------------------\u001b[0m",
      "\u001b[1;31mKeyboardInterrupt\u001b[0m                         Traceback (most recent call last)",
      "\u001b[1;32m<ipython-input-4-aad3aed32e1e>\u001b[0m in \u001b[0;36m<module>\u001b[1;34m\u001b[0m\n\u001b[0;32m      3\u001b[0m     \u001b[0mfav_retweet\u001b[0m\u001b[1;33m(\u001b[0m\u001b[0mapi\u001b[0m\u001b[1;33m)\u001b[0m\u001b[1;33m\u001b[0m\u001b[1;33m\u001b[0m\u001b[0m\n\u001b[0;32m      4\u001b[0m     \u001b[0mlogger\u001b[0m\u001b[1;33m.\u001b[0m\u001b[0minfo\u001b[0m\u001b[1;33m(\u001b[0m\u001b[1;34m\"Waiting...\"\u001b[0m\u001b[1;33m)\u001b[0m\u001b[1;33m\u001b[0m\u001b[1;33m\u001b[0m\u001b[0m\n\u001b[1;32m----> 5\u001b[1;33m     \u001b[0mtime\u001b[0m\u001b[1;33m.\u001b[0m\u001b[0msleep\u001b[0m\u001b[1;33m(\u001b[0m\u001b[1;36m10\u001b[0m\u001b[1;33m)\u001b[0m\u001b[1;33m\u001b[0m\u001b[1;33m\u001b[0m\u001b[0m\n\u001b[0m\u001b[0;32m      6\u001b[0m \u001b[1;31m# # def end():\u001b[0m\u001b[1;33m\u001b[0m\u001b[1;33m\u001b[0m\u001b[1;33m\u001b[0m\u001b[0m\n\u001b[0;32m      7\u001b[0m \u001b[1;31m#     if :\u001b[0m\u001b[1;33m\u001b[0m\u001b[1;33m\u001b[0m\u001b[1;33m\u001b[0m\u001b[0m\n",
      "\u001b[1;31mKeyboardInterrupt\u001b[0m: "
     ]
    }
   ],
   "source": [
    "#We can test the function by running it and interacting with the bot account to see if the bot picks up tweets mentioning the Hashtags:\n",
    "while True:\n",
    "    fav_retweet(api)\n",
    "    logger.info(\"Waiting...\")\n",
    "    time.sleep(10)\n",
    "    "
   ]
  },
  {
   "cell_type": "code",
   "execution_count": 4,
   "metadata": {},
   "outputs": [],
   "source": [
    "#Follow users who follow your Twitter account\n",
    "def follow_followers(api):\n",
    "    logger.info(\"Retrieving and following followers\")\n",
    "    for follower in tweepy.Cursor(api.followers).items():\n",
    "        if not follower.following:\n",
    "            try:\n",
    "                follower.follow()\n",
    "                logger.info(f\"Following {follower.name}\")\n",
    "            except tweepy.error.TweepError:\n",
    "                pass"
   ]
  },
  {
   "cell_type": "code",
   "execution_count": 6,
   "metadata": {},
   "outputs": [
    {
     "name": "stderr",
     "output_type": "stream",
     "text": [
      "INFO:root:Retrieving and following followers\n"
     ]
    }
   ],
   "source": [
    "follow_followers(api)"
   ]
  },
  {
   "cell_type": "code",
   "execution_count": 5,
   "metadata": {},
   "outputs": [],
   "source": [
    "#Retweet any tweets with a certain hashtags in the text\n",
    "def retweet_tweets_with_hashtag(api, need_hashtags):\n",
    "    if type(need_hashtags) is list:\n",
    "        search_query = f\"{need_hashtags} -filter:retweets\"\n",
    "        tweets = api.search(q=search_query, lang =\"en\", tweet_mode='extended')\n",
    "        for tweet in tweets:\n",
    "            hashtags = [i['text'].lower() for i in tweet.__dict__['entities']['hashtags']]\n",
    "            try:\n",
    "                need_hashtags = [hashtag.strip('#') for hashtag in need_hashtags]\n",
    "                need_hashtags = list(need_hashtags)\n",
    "                if set(hashtags) & set(need_hashtags):\n",
    "                    if tweet.user.id != api.me().id:\n",
    "                        api.retweet(tweet.id)\n",
    "                        logger.info(f\"Retweeted tweet from {tweet.user.name}\")\n",
    "                        time.sleep(5)\n",
    "            except tweepy.TweepError:\n",
    "                logger.error(\"Error on retweet\", exc_info=True)\n",
    "    else:\n",
    "        logger.error(\"Hashtag search terms needs to be of type list\", exc_info=True) \n",
    "        return"
   ]
  },
  {
   "cell_type": "code",
   "execution_count": 8,
   "metadata": {},
   "outputs": [
    {
     "name": "stderr",
     "output_type": "stream",
     "text": [
      "ERROR:root:Error on retweet\n",
      "Traceback (most recent call last):\n",
      "  File \"<ipython-input-7-1741744a048c>\", line 13, in retweet_tweets_with_hashtag\n",
      "    api.retweet(tweet.id)\n",
      "  File \"c:\\users\\jh231\\appdata\\local\\programs\\python\\python38-32\\lib\\site-packages\\tweepy\\binder.py\", line 253, in _call\n",
      "    return method.execute()\n",
      "  File \"c:\\users\\jh231\\appdata\\local\\programs\\python\\python38-32\\lib\\site-packages\\tweepy\\binder.py\", line 234, in execute\n",
      "    raise TweepError(error_msg, resp, api_code=api_error_code)\n",
      "tweepy.error.TweepError: Read-only application cannot POST.\n",
      "INFO:root:Waiting...\n",
      "ERROR:root:Error on retweet\n",
      "Traceback (most recent call last):\n",
      "  File \"<ipython-input-7-1741744a048c>\", line 13, in retweet_tweets_with_hashtag\n",
      "    api.retweet(tweet.id)\n",
      "  File \"c:\\users\\jh231\\appdata\\local\\programs\\python\\python38-32\\lib\\site-packages\\tweepy\\binder.py\", line 253, in _call\n",
      "    return method.execute()\n",
      "  File \"c:\\users\\jh231\\appdata\\local\\programs\\python\\python38-32\\lib\\site-packages\\tweepy\\binder.py\", line 234, in execute\n",
      "    raise TweepError(error_msg, resp, api_code=api_error_code)\n",
      "tweepy.error.TweepError: Read-only application cannot POST.\n",
      "INFO:root:Waiting...\n",
      "ERROR:root:Error on retweet\n",
      "Traceback (most recent call last):\n",
      "  File \"<ipython-input-7-1741744a048c>\", line 13, in retweet_tweets_with_hashtag\n",
      "    api.retweet(tweet.id)\n",
      "  File \"c:\\users\\jh231\\appdata\\local\\programs\\python\\python38-32\\lib\\site-packages\\tweepy\\binder.py\", line 253, in _call\n",
      "    return method.execute()\n",
      "  File \"c:\\users\\jh231\\appdata\\local\\programs\\python\\python38-32\\lib\\site-packages\\tweepy\\binder.py\", line 234, in execute\n",
      "    raise TweepError(error_msg, resp, api_code=api_error_code)\n",
      "tweepy.error.TweepError: Read-only application cannot POST.\n",
      "INFO:root:Waiting...\n",
      "ERROR:root:Error on retweet\n",
      "Traceback (most recent call last):\n",
      "  File \"<ipython-input-7-1741744a048c>\", line 13, in retweet_tweets_with_hashtag\n",
      "    api.retweet(tweet.id)\n",
      "  File \"c:\\users\\jh231\\appdata\\local\\programs\\python\\python38-32\\lib\\site-packages\\tweepy\\binder.py\", line 253, in _call\n",
      "    return method.execute()\n",
      "  File \"c:\\users\\jh231\\appdata\\local\\programs\\python\\python38-32\\lib\\site-packages\\tweepy\\binder.py\", line 234, in execute\n",
      "    raise TweepError(error_msg, resp, api_code=api_error_code)\n",
      "tweepy.error.TweepError: Read-only application cannot POST.\n",
      "INFO:root:Waiting...\n",
      "ERROR:root:Error on retweet\n",
      "Traceback (most recent call last):\n",
      "  File \"<ipython-input-7-1741744a048c>\", line 13, in retweet_tweets_with_hashtag\n",
      "    api.retweet(tweet.id)\n",
      "  File \"c:\\users\\jh231\\appdata\\local\\programs\\python\\python38-32\\lib\\site-packages\\tweepy\\binder.py\", line 253, in _call\n",
      "    return method.execute()\n",
      "  File \"c:\\users\\jh231\\appdata\\local\\programs\\python\\python38-32\\lib\\site-packages\\tweepy\\binder.py\", line 234, in execute\n",
      "    raise TweepError(error_msg, resp, api_code=api_error_code)\n",
      "tweepy.error.TweepError: Read-only application cannot POST.\n",
      "INFO:root:Waiting...\n"
     ]
    },
    {
     "ename": "KeyboardInterrupt",
     "evalue": "",
     "output_type": "error",
     "traceback": [
      "\u001b[1;31m---------------------------------------------------------------------------\u001b[0m",
      "\u001b[1;31mKeyboardInterrupt\u001b[0m                         Traceback (most recent call last)",
      "\u001b[1;32m<ipython-input-8-4faf0fc58210>\u001b[0m in \u001b[0;36m<module>\u001b[1;34m\u001b[0m\n\u001b[0;32m      2\u001b[0m         \u001b[0mretweet_tweets_with_hashtag\u001b[0m\u001b[1;33m(\u001b[0m\u001b[0mapi\u001b[0m\u001b[1;33m,\u001b[0m \u001b[1;33m[\u001b[0m\u001b[1;34m\"#manim\"\u001b[0m\u001b[1;33m]\u001b[0m\u001b[1;33m)\u001b[0m\u001b[1;33m\u001b[0m\u001b[1;33m\u001b[0m\u001b[0m\n\u001b[0;32m      3\u001b[0m         \u001b[0mlogger\u001b[0m\u001b[1;33m.\u001b[0m\u001b[0minfo\u001b[0m\u001b[1;33m(\u001b[0m\u001b[1;34m\"Waiting...\"\u001b[0m\u001b[1;33m)\u001b[0m\u001b[1;33m\u001b[0m\u001b[1;33m\u001b[0m\u001b[0m\n\u001b[1;32m----> 4\u001b[1;33m         \u001b[0mtime\u001b[0m\u001b[1;33m.\u001b[0m\u001b[0msleep\u001b[0m\u001b[1;33m(\u001b[0m\u001b[1;36m10\u001b[0m\u001b[1;33m)\u001b[0m\u001b[1;33m\u001b[0m\u001b[1;33m\u001b[0m\u001b[0m\n\u001b[0m",
      "\u001b[1;31mKeyboardInterrupt\u001b[0m: "
     ]
    }
   ],
   "source": [
    "while True:\n",
    "        retweet_tweets_with_hashtag(api, [\"#manim\"])\n",
    "        logger.info(\"Waiting...\")\n",
    "        time.sleep(10)"
   ]
  },
  {
   "cell_type": "code",
   "execution_count": 6,
   "metadata": {},
   "outputs": [],
   "source": [
    "#Creating a bot for continuous monitoring\n",
    "def main():\n",
    "    tweets = [\"To deny people their Human Rights is to challange their very Humanity\", \"The idea of cultural realitivism is nothing but an excuse to violate Human Rights\", \"Injustice anywhere is a threat to Justice evrerywhere\", \"I am tired\"]\n",
    "    api = create_api()\n",
    "    last_tweeted = datetime.now()-timedelta(hours=24)\n",
    "    while True:\n",
    "        fav_retweet_hashtag(api, \"#whatshappeninginmyanmar\", \"#myanmar\", \"#civildisobediencemovement\", \"#r2p\", \"#milkteaalliancemyanmar\")\n",
    "        last_tweeted = tweet_daily(api, last_tweeted, random.choice(tweets))\n",
    "        logger.info(\"Waiting...\")\n",
    "        time.sleep(60)"
   ]
  },
  {
   "cell_type": "code",
   "execution_count": null,
   "metadata": {},
   "outputs": [],
   "source": []
  }
 ],
 "metadata": {
  "kernelspec": {
   "name": "python380jvsc74a57bd05510fe7c91281551cb19a9f41eb309abf73aa9ddc415ef783c2268a13a9cf4f0",
   "display_name": "Python 3.8.0 32-bit"
  },
  "language_info": {
   "codemirror_mode": {
    "name": "ipython",
    "version": 3
   },
   "file_extension": ".py",
   "mimetype": "text/x-python",
   "name": "python",
   "nbconvert_exporter": "python",
   "pygments_lexer": "ipython3",
   "version": "3.8.0"
  }
 },
 "nbformat": 4,
 "nbformat_minor": 4
}