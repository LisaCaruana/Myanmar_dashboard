{
 "cells": [
  {
   "cell_type": "markdown",
   "metadata": {},
   "source": [
    "# Test Script for MongoDB "
   ]
  },
  {
   "cell_type": "code",
   "execution_count": 1,
   "metadata": {},
   "outputs": [],
   "source": [
    "#Import Dependancies\n",
    "import pandas as pd\n",
    "import pymongo\n",
    "from pymongo import MongoClient"
   ]
  },
  {
   "cell_type": "code",
   "execution_count": 2,
   "metadata": {},
   "outputs": [],
   "source": [
    "# Connection string to MongoDB\n",
    "conn='mongodb://localhost:27017'\n",
    "\n",
    "# Making a Connection with MongoClient\n",
    "client = MongoClient(conn)\n",
    "\n",
    "# create database\n",
    "db = client.MyanmarDB\n",
    "\n",
    "# create collection\n",
    "col_one = db.Myanmar_Records\n",
    "\n"
   ]
  },
  {
   "cell_type": "code",
   "execution_count": 3,
   "metadata": {},
   "outputs": [
    {
     "data": {
      "text/html": [
       "<div>\n",
       "<style scoped>\n",
       "    .dataframe tbody tr th:only-of-type {\n",
       "        vertical-align: middle;\n",
       "    }\n",
       "\n",
       "    .dataframe tbody tr th {\n",
       "        vertical-align: top;\n",
       "    }\n",
       "\n",
       "    .dataframe thead th {\n",
       "        text-align: right;\n",
       "    }\n",
       "</style>\n",
       "<table border=\"1\" class=\"dataframe\">\n",
       "  <thead>\n",
       "    <tr style=\"text-align: right;\">\n",
       "      <th></th>\n",
       "      <th>event_date</th>\n",
       "      <th>event_type</th>\n",
       "      <th>sub_event_type</th>\n",
       "      <th>actor1</th>\n",
       "      <th>actor2</th>\n",
       "      <th>location</th>\n",
       "      <th>latitude</th>\n",
       "      <th>longitude</th>\n",
       "      <th>notes</th>\n",
       "      <th>fatalities</th>\n",
       "    </tr>\n",
       "  </thead>\n",
       "  <tbody>\n",
       "    <tr>\n",
       "      <th>0</th>\n",
       "      <td>9-Apr-21</td>\n",
       "      <td>Explosions/Remote violence</td>\n",
       "      <td>Shelling/artillery/missile attack</td>\n",
       "      <td>Military Forces of Myanmar (2021-)</td>\n",
       "      <td>Civilians (Myanmar)</td>\n",
       "      <td>Hpapun</td>\n",
       "      <td>18.0650</td>\n",
       "      <td>97.4449</td>\n",
       "      <td>On 9 April 2021, in Hpapun township (Hpapun Di...</td>\n",
       "      <td>0</td>\n",
       "    </tr>\n",
       "    <tr>\n",
       "      <th>1</th>\n",
       "      <td>9-Apr-21</td>\n",
       "      <td>Protests</td>\n",
       "      <td>Protest with intervention</td>\n",
       "      <td>Protesters (Myanmar)</td>\n",
       "      <td>Military Forces of Myanmar (2021-)</td>\n",
       "      <td>Tamwe</td>\n",
       "      <td>16.8102</td>\n",
       "      <td>96.1765</td>\n",
       "      <td>On 9 April 2021, in Tamwe township (Yangon-Eas...</td>\n",
       "      <td>0</td>\n",
       "    </tr>\n",
       "    <tr>\n",
       "      <th>2</th>\n",
       "      <td>9-Apr-21</td>\n",
       "      <td>Protests</td>\n",
       "      <td>Protest with intervention</td>\n",
       "      <td>Protesters (Myanmar)</td>\n",
       "      <td>Military Forces of Myanmar (2021-)</td>\n",
       "      <td>Hpakant</td>\n",
       "      <td>25.6138</td>\n",
       "      <td>96.3148</td>\n",
       "      <td>On 9 April 2021, in Hpakant town (Hpakant town...</td>\n",
       "      <td>0</td>\n",
       "    </tr>\n",
       "    <tr>\n",
       "      <th>3</th>\n",
       "      <td>9-Apr-21</td>\n",
       "      <td>Protests</td>\n",
       "      <td>Excessive force against protesters</td>\n",
       "      <td>Protesters (Myanmar)</td>\n",
       "      <td>Military Forces of Myanmar (2021-)</td>\n",
       "      <td>Loikaw</td>\n",
       "      <td>19.6742</td>\n",
       "      <td>97.2099</td>\n",
       "      <td>On 9 April 2021, in Loikaw town (Loikaw townsh...</td>\n",
       "      <td>0</td>\n",
       "    </tr>\n",
       "    <tr>\n",
       "      <th>4</th>\n",
       "      <td>9-Apr-21</td>\n",
       "      <td>Protests</td>\n",
       "      <td>Protest with intervention</td>\n",
       "      <td>Protesters (Myanmar)</td>\n",
       "      <td>Military Forces of Myanmar (2021-)</td>\n",
       "      <td>Myitkyina</td>\n",
       "      <td>25.3832</td>\n",
       "      <td>97.3963</td>\n",
       "      <td>On 9 April 2021, in Myitkyina town (Myitkyina ...</td>\n",
       "      <td>0</td>\n",
       "    </tr>\n",
       "  </tbody>\n",
       "</table>\n",
       "</div>"
      ],
      "text/plain": [
       "  event_date                  event_type                      sub_event_type  \\\n",
       "0   9-Apr-21  Explosions/Remote violence   Shelling/artillery/missile attack   \n",
       "1   9-Apr-21                    Protests           Protest with intervention   \n",
       "2   9-Apr-21                    Protests           Protest with intervention   \n",
       "3   9-Apr-21                    Protests  Excessive force against protesters   \n",
       "4   9-Apr-21                    Protests           Protest with intervention   \n",
       "\n",
       "                               actor1                              actor2  \\\n",
       "0  Military Forces of Myanmar (2021-)                 Civilians (Myanmar)   \n",
       "1                Protesters (Myanmar)  Military Forces of Myanmar (2021-)   \n",
       "2                Protesters (Myanmar)  Military Forces of Myanmar (2021-)   \n",
       "3                Protesters (Myanmar)  Military Forces of Myanmar (2021-)   \n",
       "4                Protesters (Myanmar)  Military Forces of Myanmar (2021-)   \n",
       "\n",
       "    location  latitude  longitude  \\\n",
       "0     Hpapun   18.0650    97.4449   \n",
       "1      Tamwe   16.8102    96.1765   \n",
       "2    Hpakant   25.6138    96.3148   \n",
       "3     Loikaw   19.6742    97.2099   \n",
       "4  Myitkyina   25.3832    97.3963   \n",
       "\n",
       "                                               notes  fatalities  \n",
       "0  On 9 April 2021, in Hpapun township (Hpapun Di...           0  \n",
       "1  On 9 April 2021, in Tamwe township (Yangon-Eas...           0  \n",
       "2  On 9 April 2021, in Hpakant town (Hpakant town...           0  \n",
       "3  On 9 April 2021, in Loikaw town (Loikaw townsh...           0  \n",
       "4  On 9 April 2021, in Myitkyina town (Myitkyina ...           0  "
      ]
     },
     "execution_count": 3,
     "metadata": {},
     "output_type": "execute_result"
    }
   ],
   "source": [
    "# Read Data into a DataFrame\n",
    "myanmar_df = pd.read_csv('Myanmar_data.csv')\n",
    "myanmar_df.head()"
   ]
  },
  {
   "cell_type": "code",
   "execution_count": 4,
   "metadata": {},
   "outputs": [
    {
     "data": {
      "text/plain": [
       "<pymongo.results.InsertManyResult at 0x2348e4b2800>"
      ]
     },
     "execution_count": 4,
     "metadata": {},
     "output_type": "execute_result"
    }
   ],
   "source": [
    "# Convert Data to Dictionary and Push to MongoDB Collection\n",
    "myanmar_dict = myanmar_df.to_dict('records')\n",
    "col_one.insert_many(myanmar_dict)"
   ]
  },
  {
   "cell_type": "code",
   "execution_count": 5,
   "metadata": {},
   "outputs": [],
   "source": [
    "\n",
    "Myanmar_Records = db.Myanmar_Records.find()   \n",
    "# Create empty list and fill with collection records\n",
    "data=[]\n",
    "for item in Myanmar_Records:\n",
    "    myanmar_dict={}\n",
    "    myanmar_dict['event_date']=item['event_date']\n",
    "    myanmar_dict['event_type']=item['event_type']\n",
    "    myanmar_dict['sub_event_type']=item['sub_event_type']\n",
    "    myanmar_dict['actor1']=item['actor1']\n",
    "    myanmar_dict['actor2']=item['actor2']\n",
    "    myanmar_dict['location']=item['location']\n",
    "    myanmar_dict['latitude']=item['latitude']\n",
    "    myanmar_dict['longitude']=item['longitude']\n",
    "    myanmar_dict['fatalities']=item['fatalities']\n",
    "   \n",
    "    data.append(myanmar_dict)\n"
   ]
  },
  {
   "cell_type": "code",
   "execution_count": 12,
   "metadata": {},
   "outputs": [],
   "source": [
    "client.close()"
   ]
  },
  {
   "cell_type": "code",
   "execution_count": null,
   "metadata": {},
   "outputs": [],
   "source": []
  }
 ],
 "metadata": {
  "kernelspec": {
   "display_name": "Python 3",
   "language": "python",
   "name": "python3"
  },
  "language_info": {
   "codemirror_mode": {
    "name": "ipython",
    "version": 3
   },
   "file_extension": ".py",
   "mimetype": "text/x-python",
   "name": "python",
   "nbconvert_exporter": "python",
   "pygments_lexer": "ipython3",
   "version": "3.8.5"
  }
 },
 "nbformat": 4,
 "nbformat_minor": 5
}
